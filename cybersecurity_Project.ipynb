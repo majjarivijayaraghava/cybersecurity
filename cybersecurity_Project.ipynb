{
  "nbformat": 4,
  "nbformat_minor": 0,
  "metadata": {
    "colab": {
      "name": "cybersecurity Project.ipynb",
      "provenance": []
    },
    "kernelspec": {
      "name": "python3",
      "display_name": "Python 3"
    }
  },
  "cells": [
    {
      "cell_type": "markdown",
      "metadata": {
        "id": "RG2iZo9ZuVnk"
      },
      "source": [
        "1.EXPLORATORY  DATA ANALYSIS"
      ]
    },
    {
      "cell_type": "code",
      "metadata": {
        "id": "D92zA10u4mp9"
      },
      "source": [
        "import numpy as np\n",
        "import pandas as pd\n",
        "from sklearn.model_selection import train_test_split\n",
        "from sklearn.feature_extraction.text import CountVectorizer\n",
        "from sklearn.feature_extraction.text import TfidfTransformer\n",
        "from sklearn.naive_bayes import MultinomialNB\n",
        "from sklearn.pipeline import Pipeline\n",
        "from sklearn import metrics\n",
        "from sklearn.metrics import confusion_matrix\n",
        "from sklearn.metrics import classification_report\n",
        "from sklearn.ensemble import RandomForestClassifier\n",
        "import nltk\n",
        "from nltk.tokenize import RegexpTokenizer\n",
        "from sklearn.linear_model import SGDClassifier\n",
        "from sklearn.ensemble import GradientBoostingClassifier\n",
        "from xgboost import XGBClassifier\n",
        "import seaborn as sns"
      ],
      "execution_count": null,
      "outputs": []
    },
    {
      "cell_type": "code",
      "metadata": {
        "colab": {
          "base_uri": "https://localhost:8080/",
          "height": 534
        },
        "id": "lOlsMrSL5T_J",
        "outputId": "f3dec04e-b762-4432-dd75-651144ef2827"
      },
      "source": [
        "df = pd.read_csv('/content/drive/MyDrive/dataBreaches.csv',sep=';')\n",
        "df.head()"
      ],
      "execution_count": null,
      "outputs": [
        {
          "output_type": "execute_result",
          "data": {
            "text/html": [
              "<div>\n",
              "<style scoped>\n",
              "    .dataframe tbody tr th:only-of-type {\n",
              "        vertical-align: middle;\n",
              "    }\n",
              "\n",
              "    .dataframe tbody tr th {\n",
              "        vertical-align: top;\n",
              "    }\n",
              "\n",
              "    .dataframe thead th {\n",
              "        text-align: right;\n",
              "    }\n",
              "</style>\n",
              "<table border=\"1\" class=\"dataframe\">\n",
              "  <thead>\n",
              "    <tr style=\"text-align: right;\">\n",
              "      <th></th>\n",
              "      <th>Entity</th>\n",
              "      <th>Alternative Name</th>\n",
              "      <th>Story</th>\n",
              "      <th>Year</th>\n",
              "      <th>Records Lost</th>\n",
              "      <th>Sector</th>\n",
              "      <th>Method of Leak</th>\n",
              "      <th>1st source</th>\n",
              "      <th>2nd source</th>\n",
              "      <th>3rd source</th>\n",
              "      <th>Source name</th>\n",
              "    </tr>\n",
              "  </thead>\n",
              "  <tbody>\n",
              "    <tr>\n",
              "      <th>0</th>\n",
              "      <td>River City Media</td>\n",
              "      <td>Spam operator</td>\n",
              "      <td>A dodgy backup has allegedly resulted in over ...</td>\n",
              "      <td>2017</td>\n",
              "      <td>1,37e+09</td>\n",
              "      <td>Web</td>\n",
              "      <td>Accidentally published</td>\n",
              "      <td>https://betanews.com/2017/03/06/river-city-med...</td>\n",
              "      <td>NaN</td>\n",
              "      <td>NaN</td>\n",
              "      <td>Beta News</td>\n",
              "    </tr>\n",
              "    <tr>\n",
              "      <th>1</th>\n",
              "      <td>Unique Identification Authority of India</td>\n",
              "      <td>Aadhaar data base</td>\n",
              "      <td>A report says that full data base has been exp...</td>\n",
              "      <td>2017</td>\n",
              "      <td>1e+09</td>\n",
              "      <td>Government</td>\n",
              "      <td>Poor security</td>\n",
              "      <td>http://www.tribuneindia.com/news/nation/rs-500...</td>\n",
              "      <td>http://www.livemint.com/Opinion/MUPJK28VMeoICz...</td>\n",
              "      <td>NaN</td>\n",
              "      <td>NaN</td>\n",
              "    </tr>\n",
              "    <tr>\n",
              "      <th>2</th>\n",
              "      <td>Spambot</td>\n",
              "      <td>NaN</td>\n",
              "      <td>A misconfigured spambot has leaked over 700m r...</td>\n",
              "      <td>2017</td>\n",
              "      <td>7,11e+08</td>\n",
              "      <td>Web</td>\n",
              "      <td>Poor security</td>\n",
              "      <td>https://www.theguardian.com/technology/2017/au...</td>\n",
              "      <td>NaN</td>\n",
              "      <td>NaN</td>\n",
              "      <td>The Guardian</td>\n",
              "    </tr>\n",
              "    <tr>\n",
              "      <th>3</th>\n",
              "      <td>Friend Finder Network</td>\n",
              "      <td>Parent company of Adult Friend Finder , Cams.c...</td>\n",
              "      <td>Usernames, email addresses, passwords for site...</td>\n",
              "      <td>2016</td>\n",
              "      <td>4,12e+08</td>\n",
              "      <td>Web</td>\n",
              "      <td>Hacked</td>\n",
              "      <td>http://www.zdnet.com/article/adultfriendfinder...</td>\n",
              "      <td>https://www.leakedsource.com/blog/friendfinder</td>\n",
              "      <td>NaN</td>\n",
              "      <td>ZDNet / LeakedSource</td>\n",
              "    </tr>\n",
              "    <tr>\n",
              "      <th>4</th>\n",
              "      <td>Equifax</td>\n",
              "      <td>NaN</td>\n",
              "      <td>If you have a credit report, there’s a good ch...</td>\n",
              "      <td>2017</td>\n",
              "      <td>1,43e+08</td>\n",
              "      <td>Financial</td>\n",
              "      <td>Hacked</td>\n",
              "      <td>https://www.consumer.ftc.gov/blog/2017/09/equi...</td>\n",
              "      <td>NaN</td>\n",
              "      <td>NaN</td>\n",
              "      <td>UK Gov</td>\n",
              "    </tr>\n",
              "  </tbody>\n",
              "</table>\n",
              "</div>"
            ],
            "text/plain": [
              "                                     Entity  ...           Source name\n",
              "0                          River City Media  ...             Beta News\n",
              "1  Unique Identification Authority of India  ...                   NaN\n",
              "2                                   Spambot  ...          The Guardian\n",
              "3                     Friend Finder Network  ...  ZDNet / LeakedSource\n",
              "4                                   Equifax  ...                UK Gov\n",
              "\n",
              "[5 rows x 11 columns]"
            ]
          },
          "metadata": {
            "tags": []
          },
          "execution_count": 2
        }
      ]
    },
    {
      "cell_type": "code",
      "metadata": {
        "colab": {
          "base_uri": "https://localhost:8080/",
          "height": 522
        },
        "id": "H4BkofLV80Ab",
        "outputId": "db9c33f7-453e-497a-fc60-1dc5db99a9d7"
      },
      "source": [
        "import matplotlib.pyplot as plt\n",
        "fig = plt.figure(figsize=(8,6))\n",
        "df.groupby(['Method of Leak']).Story.count().plot.bar(ylim=0)\n",
        "plt.show()"
      ],
      "execution_count": null,
      "outputs": [
        {
          "output_type": "display_data",
          "data": {
            "image/png": "[encoded data removed]",
            "text/plain": [
              "<Figure size 576x432 with 1 Axes>"
            ]
          },
          "metadata": {
            "tags": [],
            "needs_background": "light"
          }
        }
      ]
    },
    {
      "cell_type": "code",
      "metadata": {
        "colab": {
          "base_uri": "https://localhost:8080/",
          "height": 440
        },
        "id": "fH_kFoWGAAex",
        "outputId": "1740e093-6415-4474-b97f-29f1c9e8da85"
      },
      "source": [
        "fig = plt.figure(figsize=(8,6))\n",
        "df.groupby('Sector').Story.count().plot.bar(ylim=0)\n",
        "plt.show()"
      ],
      "execution_count": null,
      "outputs": [
        {
          "output_type": "display_data",
          "data": {
            "image/png": "[encoded data removed]",
            "text/plain": [
              "<Figure size 576x432 with 1 Axes>"
            ]
          },
          "metadata": {
            "tags": [],
            "needs_background": "light"
          }
        }
      ]
    },
    {
      "cell_type": "code",
      "metadata": {
        "colab": {
          "base_uri": "https://localhost:8080/",
          "height": 403
        },
        "id": "qZFy-VHrBoi4",
        "outputId": "4b1acec1-c2d8-4e94-befc-0734dcabf006"
      },
      "source": [
        "fig = plt.figure(figsize=(8,6))\n",
        "df.groupby('Year').Story.count().plot.bar(ylim=0)\n",
        "plt.show()"
      ],
      "execution_count": null,
      "outputs": [
        {
          "output_type": "display_data",
          "data": {
            "image/png": "[encoded data removed]",
            "text/plain": [
              "<Figure size 576x432 with 1 Axes>"
            ]
          },
          "metadata": {
            "tags": [],
            "needs_background": "light"
          }
        }
      ]
    },
    {
      "cell_type": "code",
      "metadata": {
        "colab": {
          "base_uri": "https://localhost:8080/",
          "height": 240
        },
        "id": "GO1fgL1nB70B",
        "outputId": "8d524fdc-05b7-4547-b122-6743446d1a6d"
      },
      "source": [
        " dfplt = pd.DataFrame()\n",
        "dfplot = df.groupby('Year')['Records Lost'].sum()\n",
        "dh = dfplot.to_frame()\n",
        "plt.plot(dh['Records Lost'])"
      ],
      "execution_count": null,
      "outputs": [
        {
          "output_type": "execute_result",
          "data": {
            "text/plain": [
              "[<matplotlib.lines.Line2D at 0x7f921e94c7f0>]"
            ]
          },
          "metadata": {
            "tags": []
          },
          "execution_count": 6
        },
        {
          "output_type": "display_data",
          "data": {
            "image/png": "[encoded data removed]",
            "text/plain": [
              "<Figure size 432x288 with 1 Axes>"
            ]
          },
          "metadata": {
            "tags": [],
            "needs_background": "light"
          }
        }
      ]
    },
    {
      "cell_type": "markdown",
      "metadata": {
        "id": "er-HHBEruqXG"
      },
      "source": [
        "2.DATA CLEANING"
      ]
    },
    {
      "cell_type": "code",
      "metadata": {
        "id": "-1TQdZf_DpYp",
        "colab": {
          "base_uri": "https://localhost:8080/"
        },
        "outputId": "6db0b28a-50f2-4c9b-ed23-cb8ebbc24511"
      },
      "source": [
        "import re\n",
        "from wordcloud import WordCloud, STOPWORDS\n",
        "import networkx as nx\n",
        "import nltk\n",
        "from nltk.corpus import stopwords\n",
        "import itertools\n",
        "import collections\n",
        "from nltk import bigrams\n",
        "from sklearn.feature_extraction.text import TfidfVectorizer\n",
        "from nltk.stem import WordNetLemmatizer\n",
        "from sklearn.cluster import KMeans\n",
        "from nltk.sentiment.vader import SentimentIntensityAnalyzer\n",
        "from nltk.sentiment.util import *\n",
        "from textblob import TextBlob\n",
        "from bs4 import BeautifulSoup"
      ],
      "execution_count": null,
      "outputs": [
        {
          "output_type": "stream",
          "text": [
            "/usr/local/lib/python3.6/dist-packages/nltk/twitter/__init__.py:20: UserWarning: The twython library has not been installed. Some functionality from the twitter package will not be available.\n",
            "  warnings.warn(\"The twython library has not been installed. \"\n"
          ],
          "name": "stderr"
        }
      ]
    },
    {
      "cell_type": "code",
      "metadata": {
        "colab": {
          "base_uri": "https://localhost:8080/"
        },
        "id": "lzMXi9hwDrd5",
        "outputId": "6e22b90b-e95a-4935-b928-a8de9ce4d8e2"
      },
      "source": [
        "df['Story']\n",
        "dword = df['Story'].dropna()\n",
        "dword"
      ],
      "execution_count": null,
      "outputs": [
        {
          "output_type": "execute_result",
          "data": {
            "text/plain": [
              "0      A dodgy backup has allegedly resulted in over ...\n",
              "1      A report says that full data base has been exp...\n",
              "2      A misconfigured spambot has leaked over 700m r...\n",
              "3      Usernames, email addresses, passwords for site...\n",
              "4      If you have a credit report, there’s a good ch...\n",
              "                             ...                        \n",
              "264    Laptop lost/stolen containing employee data: n...\n",
              "265    CardSystems was fingered by MasterCard after i...\n",
              "266    Blame the messenger! A box of computer tapes c...\n",
              "267    Computer backup tape containing personal infor...\n",
              "269    A former America Online software engineer stol...\n",
              "Name: Story, Length: 239, dtype: object"
            ]
          },
          "metadata": {
            "tags": []
          },
          "execution_count": 8
        }
      ]
    },
    {
      "cell_type": "code",
      "metadata": {
        "colab": {
          "base_uri": "https://localhost:8080/"
        },
        "id": "sTadqoPDE8MJ",
        "outputId": "2457ca62-07a5-4745-8e47-4cb171266444"
      },
      "source": [
        "df['Method of Leak'].value_counts()"
      ],
      "execution_count": null,
      "outputs": [
        {
          "output_type": "execute_result",
          "data": {
            "text/plain": [
              "Hacked                           168\n",
              "Lost / stolen device or media     49\n",
              "Inside job                        19\n",
              "Accidentally published            17\n",
              "Poor security                     17\n",
              "Name: Method of Leak, dtype: int64"
            ]
          },
          "metadata": {
            "tags": []
          },
          "execution_count": 9
        }
      ]
    },
    {
      "cell_type": "code",
      "metadata": {
        "colab": {
          "base_uri": "https://localhost:8080/"
        },
        "id": "K64tvudthWwW",
        "outputId": "f3411957-1788-4f46-f509-a02a1c075bcc"
      },
      "source": [
        "import nltk\n",
        "nltk.download('stopwords')\n",
        "def clean(x):\n",
        " x=BeautifulSoup(x).get_text()\n",
        " x=re.sub('[^a-zA-Z]',' ',x)\n",
        " x=x.lower().split()\n",
        " stop=set(stopwords.words('english'))\n",
        " words=[w for w in x if not w in stop]\n",
        " return(' '.join(words))\n",
        "dword=dword.apply(lambda x:clean(x))"
      ],
      "execution_count": null,
      "outputs": [
        {
          "output_type": "stream",
          "text": [
            "[nltk_data] Downloading package stopwords to /root/nltk_data...\n",
            "[nltk_data]   Unzipping corpora/stopwords.zip.\n"
          ],
          "name": "stdout"
        }
      ]
    },
    {
      "cell_type": "code",
      "metadata": {
        "colab": {
          "base_uri": "https://localhost:8080/",
          "height": 202
        },
        "id": "be-sEgDkntOU",
        "outputId": "353a236a-e641-417a-b3d1-4580bf3b02e7"
      },
      "source": [
        " display(dword.head(10))"
      ],
      "execution_count": null,
      "outputs": [
        {
          "output_type": "display_data",
          "data": {
            "text/plain": [
              "0    dodgy backup allegedly resulted billion leaked...\n",
              "1    report says full data base exposed aadhaar uni...\n",
              "2    misconfigured spambot leaked records although ...\n",
              "3    usernames email addresses passwords sites incl...\n",
              "4    credit report good chance one million american...\n",
              "5       email addresses extracted associated passwords\n",
              "6    oct data numerous malaysian telco mvno provide...\n",
              "7    feb usernames passwords ip addresses stolen al...\n",
              "8    user accounts hacked using forged cookies log ...\n",
              "9      dec app developer failed secure database server\n",
              "Name: Story, dtype: object"
            ]
          },
          "metadata": {
            "tags": []
          }
        }
      ]
    },
    {
      "cell_type": "code",
      "metadata": {
        "colab": {
          "base_uri": "https://localhost:8080/"
        },
        "id": "L-QkIVEHn4AM",
        "outputId": "3c909510-932c-4a94-858a-d23440f77929"
      },
      "source": [
        "words_in_story = [story.lower().split() for story in dword]\n",
        "words_in_story[0]"
      ],
      "execution_count": null,
      "outputs": [
        {
          "output_type": "execute_result",
          "data": {
            "text/plain": [
              "['dodgy',\n",
              " 'backup',\n",
              " 'allegedly',\n",
              " 'resulted',\n",
              " 'billion',\n",
              " 'leaked',\n",
              " 'email',\n",
              " 'addresses',\n",
              " 'plus',\n",
              " 'personal',\n",
              " 'info',\n",
              " 'cases',\n",
              " 'exposed',\n",
              " 'rcm',\n",
              " 'business',\n",
              " 'plans',\n",
              " 'operations']"
            ]
          },
          "metadata": {
            "tags": []
          },
          "execution_count": 12
        }
      ]
    },
    {
      "cell_type": "code",
      "metadata": {
        "colab": {
          "base_uri": "https://localhost:8080/"
        },
        "id": "4pCQNNrLoRZq",
        "outputId": "4ac9497d-0d18-4603-d153-ce96ae065be1"
      },
      "source": [
        "stop_words = set(stopwords.words('english'))\n",
        "list(stop_words)[0:10]\n",
        "story_nsw = [[word for word in story_words if not word in stop_words]\n",
        " for story_words in words_in_story]\n",
        "story_nsw[0]\n"
      ],
      "execution_count": null,
      "outputs": [
        {
          "output_type": "execute_result",
          "data": {
            "text/plain": [
              "['dodgy',\n",
              " 'backup',\n",
              " 'allegedly',\n",
              " 'resulted',\n",
              " 'billion',\n",
              " 'leaked',\n",
              " 'email',\n",
              " 'addresses',\n",
              " 'plus',\n",
              " 'personal',\n",
              " 'info',\n",
              " 'cases',\n",
              " 'exposed',\n",
              " 'rcm',\n",
              " 'business',\n",
              " 'plans',\n",
              " 'operations']"
            ]
          },
          "metadata": {
            "tags": []
          },
          "execution_count": 13
        }
      ]
    },
    {
      "cell_type": "code",
      "metadata": {
        "colab": {
          "base_uri": "https://localhost:8080/"
        },
        "id": "RanBLhuNokOQ",
        "outputId": "90d28e73-69bf-47bf-eecb-822ebcf8ffcb"
      },
      "source": [
        "all_words_nsw = list(itertools.chain(*story_nsw))\n",
        "counts_nsw = collections.Counter(all_words_nsw)\n",
        "counts_nsw.most_common(15)"
      ],
      "execution_count": null,
      "outputs": [
        {
          "output_type": "execute_result",
          "data": {
            "text/plain": [
              "[('data', 92),\n",
              " ('numbers', 91),\n",
              " ('information', 75),\n",
              " ('addresses', 64),\n",
              " ('million', 63),\n",
              " ('security', 61),\n",
              " ('stolen', 52),\n",
              " ('passwords', 49),\n",
              " ('names', 48),\n",
              " ('records', 39),\n",
              " ('social', 39),\n",
              " ('personal', 32),\n",
              " ('details', 32),\n",
              " ('card', 32),\n",
              " ('hackers', 30)]"
            ]
          },
          "metadata": {
            "tags": []
          },
          "execution_count": 14
        }
      ]
    },
    {
      "cell_type": "code",
      "metadata": {
        "colab": {
          "base_uri": "https://localhost:8080/",
          "height": 499
        },
        "id": "VWvtUNgyopjH",
        "outputId": "31ac0a26-0a64-4446-e067-fd2272f34b6c"
      },
      "source": [
        "clean_story_nsw = pd.DataFrame(counts_nsw.most_common(15),\n",
        " columns=['words', 'count'])\n",
        "fig, ax = plt.subplots(figsize=(8, 8))\n",
        "clean_story_nsw.sort_values(by='count').plot.barh(x='words',\n",
        " y='count',\n",
        " ax=ax,\n",
        " color=\"orange\")\n",
        "ax.set_title(\"Common Terms Found in Story (Without Stop Words)\")\n",
        "plt.show()"
      ],
      "execution_count": null,
      "outputs": [
        {
          "output_type": "display_data",
          "data": {
            "image/png": "[encoded data removed]",
            "text/plain": [
              "<Figure size 576x576 with 1 Axes>"
            ]
          },
          "metadata": {
            "tags": [],
            "needs_background": "light"
          }
        }
      ]
    },
    {
      "cell_type": "code",
      "metadata": {
        "colab": {
          "base_uri": "https://localhost:8080/"
        },
        "id": "zLCE-09j2dq3",
        "outputId": "68bdd78c-f9d5-45fc-f92d-adc204913435"
      },
      "source": [
        "terms_bigram = [list(bigrams(term)) for term in story_nsw]\n",
        "terms_bigram[0]"
      ],
      "execution_count": null,
      "outputs": [
        {
          "output_type": "execute_result",
          "data": {
            "text/plain": [
              "[('dodgy', 'backup'),\n",
              " ('backup', 'allegedly'),\n",
              " ('allegedly', 'resulted'),\n",
              " ('resulted', 'billion'),\n",
              " ('billion', 'leaked'),\n",
              " ('leaked', 'email'),\n",
              " ('email', 'addresses'),\n",
              " ('addresses', 'plus'),\n",
              " ('plus', 'personal'),\n",
              " ('personal', 'info'),\n",
              " ('info', 'cases'),\n",
              " ('cases', 'exposed'),\n",
              " ('exposed', 'rcm'),\n",
              " ('rcm', 'business'),\n",
              " ('business', 'plans'),\n",
              " ('plans', 'operations')]"
            ]
          },
          "metadata": {
            "tags": []
          },
          "execution_count": 16
        }
      ]
    },
    {
      "cell_type": "code",
      "metadata": {
        "colab": {
          "base_uri": "https://localhost:8080/",
          "height": 639
        },
        "id": "oxcmuuSn2sfv",
        "outputId": "631adc2a-9452-4e98-ae2d-b388c29f327d"
      },
      "source": [
        "bigrams = list(itertools.chain(*terms_bigram))\n",
        "bigram_counts = collections.Counter(bigrams)\n",
        "bigram_counts.most_common(30)\n",
        "bigram_df = pd.DataFrame(bigram_counts.most_common(20),\n",
        " columns=['bigram', 'count'])\n",
        "bigram_df"
      ],
      "execution_count": null,
      "outputs": [
        {
          "output_type": "execute_result",
          "data": {
            "text/html": [
              "<div>\n",
              "<style scoped>\n",
              "    .dataframe tbody tr th:only-of-type {\n",
              "        vertical-align: middle;\n",
              "    }\n",
              "\n",
              "    .dataframe tbody tr th {\n",
              "        vertical-align: top;\n",
              "    }\n",
              "\n",
              "    .dataframe thead th {\n",
              "        text-align: right;\n",
              "    }\n",
              "</style>\n",
              "<table border=\"1\" class=\"dataframe\">\n",
              "  <thead>\n",
              "    <tr style=\"text-align: right;\">\n",
              "      <th></th>\n",
              "      <th>bigram</th>\n",
              "      <th>count</th>\n",
              "    </tr>\n",
              "  </thead>\n",
              "  <tbody>\n",
              "    <tr>\n",
              "      <th>0</th>\n",
              "      <td>(social, security)</td>\n",
              "      <td>39</td>\n",
              "    </tr>\n",
              "    <tr>\n",
              "      <th>1</th>\n",
              "      <td>(security, numbers)</td>\n",
              "      <td>38</td>\n",
              "    </tr>\n",
              "    <tr>\n",
              "      <th>2</th>\n",
              "      <td>(email, addresses)</td>\n",
              "      <td>20</td>\n",
              "    </tr>\n",
              "    <tr>\n",
              "      <th>3</th>\n",
              "      <td>(credit, card)</td>\n",
              "      <td>17</td>\n",
              "    </tr>\n",
              "    <tr>\n",
              "      <th>4</th>\n",
              "      <td>(names, addresses)</td>\n",
              "      <td>17</td>\n",
              "    </tr>\n",
              "    <tr>\n",
              "      <th>5</th>\n",
              "      <td>(phone, numbers)</td>\n",
              "      <td>16</td>\n",
              "    </tr>\n",
              "    <tr>\n",
              "      <th>6</th>\n",
              "      <td>(dates, birth)</td>\n",
              "      <td>15</td>\n",
              "    </tr>\n",
              "    <tr>\n",
              "      <th>7</th>\n",
              "      <td>(personal, information)</td>\n",
              "      <td>14</td>\n",
              "    </tr>\n",
              "    <tr>\n",
              "      <th>8</th>\n",
              "      <td>(e, mail)</td>\n",
              "      <td>10</td>\n",
              "    </tr>\n",
              "    <tr>\n",
              "      <th>9</th>\n",
              "      <td>(mail, addresses)</td>\n",
              "      <td>10</td>\n",
              "    </tr>\n",
              "    <tr>\n",
              "      <th>10</th>\n",
              "      <td>(card, numbers)</td>\n",
              "      <td>9</td>\n",
              "    </tr>\n",
              "    <tr>\n",
              "      <th>11</th>\n",
              "      <td>(birth, dates)</td>\n",
              "      <td>8</td>\n",
              "    </tr>\n",
              "    <tr>\n",
              "      <th>12</th>\n",
              "      <td>(addresses, phone)</td>\n",
              "      <td>7</td>\n",
              "    </tr>\n",
              "    <tr>\n",
              "      <th>13</th>\n",
              "      <td>(bank, account)</td>\n",
              "      <td>7</td>\n",
              "    </tr>\n",
              "    <tr>\n",
              "      <th>14</th>\n",
              "      <td>(credit, debit)</td>\n",
              "      <td>7</td>\n",
              "    </tr>\n",
              "    <tr>\n",
              "      <th>15</th>\n",
              "      <td>(debit, card)</td>\n",
              "      <td>7</td>\n",
              "    </tr>\n",
              "    <tr>\n",
              "      <th>16</th>\n",
              "      <td>(hard, drive)</td>\n",
              "      <td>7</td>\n",
              "    </tr>\n",
              "    <tr>\n",
              "      <th>17</th>\n",
              "      <td>(unauthorized, access)</td>\n",
              "      <td>6</td>\n",
              "    </tr>\n",
              "    <tr>\n",
              "      <th>18</th>\n",
              "      <td>(addresses, passwords)</td>\n",
              "      <td>6</td>\n",
              "    </tr>\n",
              "    <tr>\n",
              "      <th>19</th>\n",
              "      <td>(license, numbers)</td>\n",
              "      <td>6</td>\n",
              "    </tr>\n",
              "  </tbody>\n",
              "</table>\n",
              "</div>"
            ],
            "text/plain": [
              "                     bigram  count\n",
              "0        (social, security)     39\n",
              "1       (security, numbers)     38\n",
              "2        (email, addresses)     20\n",
              "3            (credit, card)     17\n",
              "4        (names, addresses)     17\n",
              "5          (phone, numbers)     16\n",
              "6            (dates, birth)     15\n",
              "7   (personal, information)     14\n",
              "8                 (e, mail)     10\n",
              "9         (mail, addresses)     10\n",
              "10          (card, numbers)      9\n",
              "11           (birth, dates)      8\n",
              "12       (addresses, phone)      7\n",
              "13          (bank, account)      7\n",
              "14          (credit, debit)      7\n",
              "15            (debit, card)      7\n",
              "16            (hard, drive)      7\n",
              "17   (unauthorized, access)      6\n",
              "18   (addresses, passwords)      6\n",
              "19       (license, numbers)      6"
            ]
          },
          "metadata": {
            "tags": []
          },
          "execution_count": 17
        }
      ]
    },
    {
      "cell_type": "code",
      "metadata": {
        "colab": {
          "base_uri": "https://localhost:8080/",
          "height": 153
        },
        "id": "ORxfbUYG3Aho",
        "outputId": "4de10e20-19b8-4456-d343-7385dcda83f9"
      },
      "source": [
        " nltk.download('vader_lexicon')\n",
        "  \n",
        "from nltk.sentiment.vader import SentimentIntensityAnalyzer\n",
        "from nltk.sentiment.util import *\n",
        "from nltk.corpus import stopwords\n",
        "from nltk import tokenize\n",
        "sentiment = pd.DataFrame()\n",
        "sid = SentimentIntensityAnalyzer()\n",
        "sentiment['sentiment_compound_polarity']=dword.apply(lambda x:sid.polarity_scores(x)['compound'])\n",
        "sentiment['sentiment_neutral']=dword.apply(lambda x:sid.polarity_scores(x)['neu'])\n",
        "sentiment['sentiment_negative']=dword.apply(lambda x:sid.polarity_scores(x)['neg'])\n",
        "sentiment['sentiment_pos']=dword.apply(lambda x:sid.polarity_scores(x)['pos'])\n",
        "sentiment['sentiment_type']=''\n",
        "sentiment.loc[sentiment.sentiment_compound_polarity>0,'sentiment_type']='Positive'\n",
        "sentiment.loc[sentiment.sentiment_compound_polarity==0,'sentiment_type']='Neutral'\n",
        "sentiment.loc[sentiment.sentiment_compound_polarity<0,'sentiment_type']='Negative'\n",
        "sentiment.head(3)\n"
      ],
      "execution_count": null,
      "outputs": [
        {
          "output_type": "stream",
          "text": [
            "[nltk_data] Downloading package vader_lexicon to /root/nltk_data...\n"
          ],
          "name": "stdout"
        },
        {
          "output_type": "execute_result",
          "data": {
            "text/html": [
              "<div>\n",
              "<style scoped>\n",
              "    .dataframe tbody tr th:only-of-type {\n",
              "        vertical-align: middle;\n",
              "    }\n",
              "\n",
              "    .dataframe tbody tr th {\n",
              "        vertical-align: top;\n",
              "    }\n",
              "\n",
              "    .dataframe thead th {\n",
              "        text-align: right;\n",
              "    }\n",
              "</style>\n",
              "<table border=\"1\" class=\"dataframe\">\n",
              "  <thead>\n",
              "    <tr style=\"text-align: right;\">\n",
              "      <th></th>\n",
              "      <th>sentiment_compound_polarity</th>\n",
              "      <th>sentiment_neutral</th>\n",
              "      <th>sentiment_negative</th>\n",
              "      <th>sentiment_pos</th>\n",
              "      <th>sentiment_type</th>\n",
              "    </tr>\n",
              "  </thead>\n",
              "  <tbody>\n",
              "    <tr>\n",
              "      <th>0</th>\n",
              "      <td>-0.5423</td>\n",
              "      <td>0.718</td>\n",
              "      <td>0.282</td>\n",
              "      <td>0.000</td>\n",
              "      <td>Negative</td>\n",
              "    </tr>\n",
              "    <tr>\n",
              "      <th>1</th>\n",
              "      <td>-0.3612</td>\n",
              "      <td>0.789</td>\n",
              "      <td>0.129</td>\n",
              "      <td>0.082</td>\n",
              "      <td>Negative</td>\n",
              "    </tr>\n",
              "    <tr>\n",
              "      <th>2</th>\n",
              "      <td>-0.6597</td>\n",
              "      <td>0.597</td>\n",
              "      <td>0.403</td>\n",
              "      <td>0.000</td>\n",
              "      <td>Negative</td>\n",
              "    </tr>\n",
              "  </tbody>\n",
              "</table>\n",
              "</div>"
            ],
            "text/plain": [
              "   sentiment_compound_polarity  sentiment_neutral  ...  sentiment_pos  sentiment_type\n",
              "0                      -0.5423              0.718  ...          0.000        Negative\n",
              "1                      -0.3612              0.789  ...          0.082        Negative\n",
              "2                      -0.6597              0.597  ...          0.000        Negative\n",
              "\n",
              "[3 rows x 5 columns]"
            ]
          },
          "metadata": {
            "tags": []
          },
          "execution_count": 18
        }
      ]
    },
    {
      "cell_type": "code",
      "metadata": {
        "id": "4o1swzB43lQX",
        "colab": {
          "base_uri": "https://localhost:8080/"
        },
        "outputId": "863e58bc-2762-4998-c2aa-203244e27926"
      },
      "source": [
        "sentiment.sentiment_type.value_counts()"
      ],
      "execution_count": null,
      "outputs": [
        {
          "output_type": "execute_result",
          "data": {
            "text/plain": [
              "Negative    139\n",
              "Positive     61\n",
              "Neutral      39\n",
              "Name: sentiment_type, dtype: int64"
            ]
          },
          "metadata": {
            "tags": []
          },
          "execution_count": 19
        }
      ]
    },
    {
      "cell_type": "code",
      "metadata": {
        "colab": {
          "base_uri": "https://localhost:8080/",
          "height": 444
        },
        "id": "xT9Sfv9bEAmp",
        "outputId": "d82c2b70-96e6-49e3-f94d-670505fd49d6"
      },
      "source": [
        "colors = ['blue', 'yellow', 'red']\n",
        "explode = (0, 0.08, 0.1)\n",
        "sentiment.sentiment_type.value_counts().plot(kind='pie', figsize=(9, 7), title=\"Sentiment Analysis of Data Breach Stories (Pie Graph)\", colors=colors, explode=explode,autopct='%1.1f%%', shadow=False)"
      ],
      "execution_count": null,
      "outputs": [
        {
          "output_type": "execute_result",
          "data": {
            "text/plain": [
              "<matplotlib.axes._subplots.AxesSubplot at 0x7f9219e27550>"
            ]
          },
          "metadata": {
            "tags": []
          },
          "execution_count": 20
        },
        {
          "output_type": "display_data",
          "data": {
            "image/png": "[encoded data removed]",
            "text/plain": [
              "<Figure size 648x504 with 1 Axes>"
            ]
          },
          "metadata": {
            "tags": []
          }
        }
      ]
    },
    {
      "cell_type": "code",
      "metadata": {
        "colab": {
          "base_uri": "https://localhost:8080/"
        },
        "id": "mD2X8boxECrZ",
        "outputId": "4a986d71-6987-425d-a6f0-f9185fb5f487"
      },
      "source": [
        "df['Method of Leak'].value_counts()"
      ],
      "execution_count": null,
      "outputs": [
        {
          "output_type": "execute_result",
          "data": {
            "text/plain": [
              "Hacked                           168\n",
              "Lost / stolen device or media     49\n",
              "Inside job                        19\n",
              "Accidentally published            17\n",
              "Poor security                     17\n",
              "Name: Method of Leak, dtype: int64"
            ]
          },
          "metadata": {
            "tags": []
          },
          "execution_count": 21
        }
      ]
    },
    {
      "cell_type": "code",
      "metadata": {
        "colab": {
          "base_uri": "https://localhost:8080/"
        },
        "id": "qV7A0QyTEKAi",
        "outputId": "4e1f2377-5c0c-42bb-ec1b-e8751aa3990f"
      },
      "source": [
        "list(df.columns.values)\n"
      ],
      "execution_count": null,
      "outputs": [
        {
          "output_type": "execute_result",
          "data": {
            "text/plain": [
              "['Entity',\n",
              " 'Alternative Name',\n",
              " 'Story',\n",
              " 'Year',\n",
              " 'Records Lost',\n",
              " 'Sector',\n",
              " 'Method of Leak',\n",
              " '1st source',\n",
              " '2nd source',\n",
              " '3rd source',\n",
              " 'Source name']"
            ]
          },
          "metadata": {
            "tags": []
          },
          "execution_count": 22
        }
      ]
    },
    {
      "cell_type": "code",
      "metadata": {
        "id": "kxj6o4qPENvP"
      },
      "source": [
        "dfmodel = pd.DataFrame()\n",
        "dfmodel['Story'] = df['Story']\n",
        "dfmodel['Method of Leak'] = df['Method of Leak']"
      ],
      "execution_count": null,
      "outputs": []
    },
    {
      "cell_type": "code",
      "metadata": {
        "colab": {
          "base_uri": "https://localhost:8080/",
          "height": 402
        },
        "id": "9PqRjuOeETwL",
        "outputId": "2b581510-5b29-48af-98e5-16385c0a44b3"
      },
      "source": [
        "dfmodel"
      ],
      "execution_count": null,
      "outputs": [
        {
          "output_type": "execute_result",
          "data": {
            "text/html": [
              "<div>\n",
              "<style scoped>\n",
              "    .dataframe tbody tr th:only-of-type {\n",
              "        vertical-align: middle;\n",
              "    }\n",
              "\n",
              "    .dataframe tbody tr th {\n",
              "        vertical-align: top;\n",
              "    }\n",
              "\n",
              "    .dataframe thead th {\n",
              "        text-align: right;\n",
              "    }\n",
              "</style>\n",
              "<table border=\"1\" class=\"dataframe\">\n",
              "  <thead>\n",
              "    <tr style=\"text-align: right;\">\n",
              "      <th></th>\n",
              "      <th>Story</th>\n",
              "      <th>Method of Leak</th>\n",
              "    </tr>\n",
              "  </thead>\n",
              "  <tbody>\n",
              "    <tr>\n",
              "      <th>0</th>\n",
              "      <td>A dodgy backup has allegedly resulted in over ...</td>\n",
              "      <td>Accidentally published</td>\n",
              "    </tr>\n",
              "    <tr>\n",
              "      <th>1</th>\n",
              "      <td>A report says that full data base has been exp...</td>\n",
              "      <td>Poor security</td>\n",
              "    </tr>\n",
              "    <tr>\n",
              "      <th>2</th>\n",
              "      <td>A misconfigured spambot has leaked over 700m r...</td>\n",
              "      <td>Poor security</td>\n",
              "    </tr>\n",
              "    <tr>\n",
              "      <th>3</th>\n",
              "      <td>Usernames, email addresses, passwords for site...</td>\n",
              "      <td>Hacked</td>\n",
              "    </tr>\n",
              "    <tr>\n",
              "      <th>4</th>\n",
              "      <td>If you have a credit report, there’s a good ch...</td>\n",
              "      <td>Hacked</td>\n",
              "    </tr>\n",
              "    <tr>\n",
              "      <th>...</th>\n",
              "      <td>...</td>\n",
              "      <td>...</td>\n",
              "    </tr>\n",
              "    <tr>\n",
              "      <th>265</th>\n",
              "      <td>CardSystems was fingered by MasterCard after i...</td>\n",
              "      <td>Hacked</td>\n",
              "    </tr>\n",
              "    <tr>\n",
              "      <th>266</th>\n",
              "      <td>Blame the messenger! A box of computer tapes c...</td>\n",
              "      <td>Lost / stolen device or media</td>\n",
              "    </tr>\n",
              "    <tr>\n",
              "      <th>267</th>\n",
              "      <td>Computer backup tape containing personal infor...</td>\n",
              "      <td>Lost / stolen device or media</td>\n",
              "    </tr>\n",
              "    <tr>\n",
              "      <th>268</th>\n",
              "      <td>NaN</td>\n",
              "      <td>Poor security</td>\n",
              "    </tr>\n",
              "    <tr>\n",
              "      <th>269</th>\n",
              "      <td>A former America Online software engineer stol...</td>\n",
              "      <td>Inside job</td>\n",
              "    </tr>\n",
              "  </tbody>\n",
              "</table>\n",
              "<p>270 rows × 2 columns</p>\n",
              "</div>"
            ],
            "text/plain": [
              "                                                 Story                 Method of Leak\n",
              "0    A dodgy backup has allegedly resulted in over ...         Accidentally published\n",
              "1    A report says that full data base has been exp...                  Poor security\n",
              "2    A misconfigured spambot has leaked over 700m r...                  Poor security\n",
              "3    Usernames, email addresses, passwords for site...                         Hacked\n",
              "4    If you have a credit report, there’s a good ch...                         Hacked\n",
              "..                                                 ...                            ...\n",
              "265  CardSystems was fingered by MasterCard after i...                         Hacked\n",
              "266  Blame the messenger! A box of computer tapes c...  Lost / stolen device or media\n",
              "267  Computer backup tape containing personal infor...  Lost / stolen device or media\n",
              "268                                                NaN                  Poor security\n",
              "269  A former America Online software engineer stol...                     Inside job\n",
              "\n",
              "[270 rows x 2 columns]"
            ]
          },
          "metadata": {
            "tags": []
          },
          "execution_count": 24
        }
      ]
    },
    {
      "cell_type": "code",
      "metadata": {
        "colab": {
          "base_uri": "https://localhost:8080/",
          "height": 195
        },
        "id": "mqM_DRZWEZN3",
        "outputId": "0faad4db-3edd-4ecc-b387-62f2b7003ab0"
      },
      "source": [
        "dfmodel = dfmodel.dropna()\n",
        "dfmodel.head()"
      ],
      "execution_count": null,
      "outputs": [
        {
          "output_type": "execute_result",
          "data": {
            "text/html": [
              "<div>\n",
              "<style scoped>\n",
              "    .dataframe tbody tr th:only-of-type {\n",
              "        vertical-align: middle;\n",
              "    }\n",
              "\n",
              "    .dataframe tbody tr th {\n",
              "        vertical-align: top;\n",
              "    }\n",
              "\n",
              "    .dataframe thead th {\n",
              "        text-align: right;\n",
              "    }\n",
              "</style>\n",
              "<table border=\"1\" class=\"dataframe\">\n",
              "  <thead>\n",
              "    <tr style=\"text-align: right;\">\n",
              "      <th></th>\n",
              "      <th>Story</th>\n",
              "      <th>Method of Leak</th>\n",
              "    </tr>\n",
              "  </thead>\n",
              "  <tbody>\n",
              "    <tr>\n",
              "      <th>0</th>\n",
              "      <td>A dodgy backup has allegedly resulted in over ...</td>\n",
              "      <td>Accidentally published</td>\n",
              "    </tr>\n",
              "    <tr>\n",
              "      <th>1</th>\n",
              "      <td>A report says that full data base has been exp...</td>\n",
              "      <td>Poor security</td>\n",
              "    </tr>\n",
              "    <tr>\n",
              "      <th>2</th>\n",
              "      <td>A misconfigured spambot has leaked over 700m r...</td>\n",
              "      <td>Poor security</td>\n",
              "    </tr>\n",
              "    <tr>\n",
              "      <th>3</th>\n",
              "      <td>Usernames, email addresses, passwords for site...</td>\n",
              "      <td>Hacked</td>\n",
              "    </tr>\n",
              "    <tr>\n",
              "      <th>4</th>\n",
              "      <td>If you have a credit report, there’s a good ch...</td>\n",
              "      <td>Hacked</td>\n",
              "    </tr>\n",
              "  </tbody>\n",
              "</table>\n",
              "</div>"
            ],
            "text/plain": [
              "                                               Story          Method of Leak\n",
              "0  A dodgy backup has allegedly resulted in over ...  Accidentally published\n",
              "1  A report says that full data base has been exp...           Poor security\n",
              "2  A misconfigured spambot has leaked over 700m r...           Poor security\n",
              "3  Usernames, email addresses, passwords for site...                  Hacked\n",
              "4  If you have a credit report, there’s a good ch...                  Hacked"
            ]
          },
          "metadata": {
            "tags": []
          },
          "execution_count": 26
        }
      ]
    },
    {
      "cell_type": "code",
      "metadata": {
        "colab": {
          "base_uri": "https://localhost:8080/"
        },
        "id": "Wi74Z-mSEhar",
        "outputId": "a082de89-44cd-4dc5-b69b-b59799894b6e"
      },
      "source": [
        "dfmodel['Method of Leak'].value_counts()"
      ],
      "execution_count": null,
      "outputs": [
        {
          "output_type": "execute_result",
          "data": {
            "text/plain": [
              "Hacked                           147\n",
              "Lost / stolen device or media     45\n",
              "Inside job                        17\n",
              "Accidentally published            15\n",
              "Poor security                     15\n",
              "Name: Method of Leak, dtype: int64"
            ]
          },
          "metadata": {
            "tags": []
          },
          "execution_count": 27
        }
      ]
    },
    {
      "cell_type": "code",
      "metadata": {
        "colab": {
          "base_uri": "https://localhost:8080/",
          "height": 402
        },
        "id": "X0vKP4zBElXK",
        "outputId": "fc4b4f57-336d-4e51-deb4-5133895f919e"
      },
      "source": [
        "dfmodel[\"label\"] = dfmodel['Method of Leak'].map({'Hacked':0,     \n",
        "'Lost / stolen device or media':1,\n",
        "'Inside job ' : 2,\n",
        "'Accidentally published' : 3,\n",
        "'Poor security' : 4, \n",
        "'Inside job' : 5 })\n",
        "dfmodel = dfmodel.dropna()\n",
        "dfmodel"
      ],
      "execution_count": null,
      "outputs": [
        {
          "output_type": "execute_result",
          "data": {
            "text/html": [
              "<div>\n",
              "<style scoped>\n",
              "    .dataframe tbody tr th:only-of-type {\n",
              "        vertical-align: middle;\n",
              "    }\n",
              "\n",
              "    .dataframe tbody tr th {\n",
              "        vertical-align: top;\n",
              "    }\n",
              "\n",
              "    .dataframe thead th {\n",
              "        text-align: right;\n",
              "    }\n",
              "</style>\n",
              "<table border=\"1\" class=\"dataframe\">\n",
              "  <thead>\n",
              "    <tr style=\"text-align: right;\">\n",
              "      <th></th>\n",
              "      <th>Story</th>\n",
              "      <th>Method of Leak</th>\n",
              "      <th>label</th>\n",
              "    </tr>\n",
              "  </thead>\n",
              "  <tbody>\n",
              "    <tr>\n",
              "      <th>0</th>\n",
              "      <td>A dodgy backup has allegedly resulted in over ...</td>\n",
              "      <td>Accidentally published</td>\n",
              "      <td>3</td>\n",
              "    </tr>\n",
              "    <tr>\n",
              "      <th>1</th>\n",
              "      <td>A report says that full data base has been exp...</td>\n",
              "      <td>Poor security</td>\n",
              "      <td>4</td>\n",
              "    </tr>\n",
              "    <tr>\n",
              "      <th>2</th>\n",
              "      <td>A misconfigured spambot has leaked over 700m r...</td>\n",
              "      <td>Poor security</td>\n",
              "      <td>4</td>\n",
              "    </tr>\n",
              "    <tr>\n",
              "      <th>3</th>\n",
              "      <td>Usernames, email addresses, passwords for site...</td>\n",
              "      <td>Hacked</td>\n",
              "      <td>0</td>\n",
              "    </tr>\n",
              "    <tr>\n",
              "      <th>4</th>\n",
              "      <td>If you have a credit report, there’s a good ch...</td>\n",
              "      <td>Hacked</td>\n",
              "      <td>0</td>\n",
              "    </tr>\n",
              "    <tr>\n",
              "      <th>...</th>\n",
              "      <td>...</td>\n",
              "      <td>...</td>\n",
              "      <td>...</td>\n",
              "    </tr>\n",
              "    <tr>\n",
              "      <th>264</th>\n",
              "      <td>Laptop lost/stolen containing employee data: n...</td>\n",
              "      <td>Lost / stolen device or media</td>\n",
              "      <td>1</td>\n",
              "    </tr>\n",
              "    <tr>\n",
              "      <th>265</th>\n",
              "      <td>CardSystems was fingered by MasterCard after i...</td>\n",
              "      <td>Hacked</td>\n",
              "      <td>0</td>\n",
              "    </tr>\n",
              "    <tr>\n",
              "      <th>266</th>\n",
              "      <td>Blame the messenger! A box of computer tapes c...</td>\n",
              "      <td>Lost / stolen device or media</td>\n",
              "      <td>1</td>\n",
              "    </tr>\n",
              "    <tr>\n",
              "      <th>267</th>\n",
              "      <td>Computer backup tape containing personal infor...</td>\n",
              "      <td>Lost / stolen device or media</td>\n",
              "      <td>1</td>\n",
              "    </tr>\n",
              "    <tr>\n",
              "      <th>269</th>\n",
              "      <td>A former America Online software engineer stol...</td>\n",
              "      <td>Inside job</td>\n",
              "      <td>5</td>\n",
              "    </tr>\n",
              "  </tbody>\n",
              "</table>\n",
              "<p>239 rows × 3 columns</p>\n",
              "</div>"
            ],
            "text/plain": [
              "                                                 Story  ... label\n",
              "0    A dodgy backup has allegedly resulted in over ...  ...     3\n",
              "1    A report says that full data base has been exp...  ...     4\n",
              "2    A misconfigured spambot has leaked over 700m r...  ...     4\n",
              "3    Usernames, email addresses, passwords for site...  ...     0\n",
              "4    If you have a credit report, there’s a good ch...  ...     0\n",
              "..                                                 ...  ...   ...\n",
              "264  Laptop lost/stolen containing employee data: n...  ...     1\n",
              "265  CardSystems was fingered by MasterCard after i...  ...     0\n",
              "266  Blame the messenger! A box of computer tapes c...  ...     1\n",
              "267  Computer backup tape containing personal infor...  ...     1\n",
              "269  A former America Online software engineer stol...  ...     5\n",
              "\n",
              "[239 rows x 3 columns]"
            ]
          },
          "metadata": {
            "tags": []
          },
          "execution_count": 30
        }
      ]
    },
    {
      "cell_type": "code",
      "metadata": {
        "id": "JJNg7SH8E8q8"
      },
      "source": [
        "token = RegexpTokenizer(r'[a-zA-Z0-9]+')\n",
        "cv = CountVectorizer(lowercase=True,stop_words='english',ngram_range = (1,1),tokenizer = token.tokenize)\n",
        "text_counts= cv.fit_transform(dfmodel['Story'])"
      ],
      "execution_count": null,
      "outputs": []
    },
    {
      "cell_type": "code",
      "metadata": {
        "id": "tsI9QaihFEOz"
      },
      "source": [
        "X_train, X_test, y_train, y_test = train_test_split(text_counts, dfmodel['label'], test_size=0.2,shuffle=True, random_state=105)"
      ],
      "execution_count": null,
      "outputs": []
    },
    {
      "cell_type": "markdown",
      "metadata": {
        "id": "cJzF-XfyFQUw"
      },
      "source": [
        "**1.Applying Multinomial Naive Bayes classifier model for Prediction**"
      ]
    },
    {
      "cell_type": "code",
      "metadata": {
        "colab": {
          "base_uri": "https://localhost:8080/"
        },
        "id": "OozRywUhFJme",
        "outputId": "b649f6c2-afa5-4156-a020-90879ea41ee5"
      },
      "source": [
        "model1 = MultinomialNB().fit(X_train, y_train)\n",
        "md1predicted= model1.predict(X_test)\n",
        "print(\"MultinomialNB Accuracy:\",metrics.accuracy_score(y_test, md1predicted))\n",
        "print(\"confusion_matrix\",confusion_matrix(y_test,md1predicted))"
      ],
      "execution_count": null,
      "outputs": [
        {
          "output_type": "stream",
          "text": [
            "MultinomialNB Accuracy: 0.6875\n",
            "confusion_matrix [[26  2  0  2  1]\n",
            " [ 0  6  0  0  0]\n",
            " [ 4  2  0  0  1]\n",
            " [ 0  0  0  0  0]\n",
            " [ 2  1  0  0  1]]\n"
          ],
          "name": "stdout"
        }
      ]
    },
    {
      "cell_type": "code",
      "metadata": {
        "colab": {
          "base_uri": "https://localhost:8080/",
          "height": 570
        },
        "id": "LndGhFFpFkmI",
        "outputId": "c583a19e-9936-4d91-e1eb-acb90b76c296"
      },
      "source": [
        "conf_mat = confusion_matrix(y_test,md1predicted)\n",
        "ax = sns.heatmap(conf_mat, annot=True, fmt=\"d\")\n",
        "print(\"classification_report\")\n",
        "print(classification_report(y_test,md1predicted))"
      ],
      "execution_count": null,
      "outputs": [
        {
          "output_type": "stream",
          "text": [
            "classification_report\n",
            "              precision    recall  f1-score   support\n",
            "\n",
            "           0       0.81      0.84      0.83        31\n",
            "           1       0.55      1.00      0.71         6\n",
            "           3       0.00      0.00      0.00         7\n",
            "           4       0.00      0.00      0.00         0\n",
            "           5       0.33      0.25      0.29         4\n",
            "\n",
            "    accuracy                           0.69        48\n",
            "   macro avg       0.34      0.42      0.36        48\n",
            "weighted avg       0.62      0.69      0.65        48\n",
            "\n"
          ],
          "name": "stdout"
        },
        {
          "output_type": "stream",
          "text": [
            "/usr/local/lib/python3.6/dist-packages/sklearn/metrics/_classification.py:1272: UndefinedMetricWarning: Precision and F-score are ill-defined and being set to 0.0 in labels with no predicted samples. Use `zero_division` parameter to control this behavior.\n",
            "  _warn_prf(average, modifier, msg_start, len(result))\n",
            "/usr/local/lib/python3.6/dist-packages/sklearn/metrics/_classification.py:1272: UndefinedMetricWarning: Recall and F-score are ill-defined and being set to 0.0 in labels with no true samples. Use `zero_division` parameter to control this behavior.\n",
            "  _warn_prf(average, modifier, msg_start, len(result))\n"
          ],
          "name": "stderr"
        },
        {
          "output_type": "display_data",
          "data": {
            "image/png": "[encoded data removed]",
            "text/plain": [
              "<Figure size 432x288 with 2 Axes>"
            ]
          },
          "metadata": {
            "tags": [],
            "needs_background": "light"
          }
        }
      ]
    },
    {
      "cell_type": "markdown",
      "metadata": {
        "id": "hH8iftfYFyGk"
      },
      "source": [
        "**2.Applying Random Forest Model for Prediction**"
      ]
    },
    {
      "cell_type": "code",
      "metadata": {
        "colab": {
          "base_uri": "https://localhost:8080/"
        },
        "id": "6u51ik0IFpK3",
        "outputId": "3d3be10e-d572-4138-b8f6-31f89be1961e"
      },
      "source": [
        "model2 = RandomForestClassifier(n_estimators=1000, random_state=0)\n",
        "model2.fit(X_train, y_train)\n",
        "md2predicted = model2.predict(X_test)\n",
        "print(\"Random Forest Accuracy\",metrics.accuracy_score(y_test, md2predicted))\n",
        "print(\"confusion_matrix\",confusion_matrix(y_test,md2predicted))"
      ],
      "execution_count": null,
      "outputs": [
        {
          "output_type": "stream",
          "text": [
            "Random Forest Accuracy 0.7708333333333334\n",
            "confusion_matrix [[31  0  0  0]\n",
            " [ 0  6  0  0]\n",
            " [ 7  0  0  0]\n",
            " [ 4  0  0  0]]\n"
          ],
          "name": "stdout"
        }
      ]
    },
    {
      "cell_type": "code",
      "metadata": {
        "colab": {
          "base_uri": "https://localhost:8080/",
          "height": 520
        },
        "id": "EaJQKmKjGOLe",
        "outputId": "e04261df-0bb5-4f80-d3ee-8ad9005e7a13"
      },
      "source": [
        "conf_mat = confusion_matrix(y_test,md2predicted)\n",
        "ax = sns.heatmap(conf_mat, annot=True, fmt=\"d\")\n",
        "print(\"classification_report\")\n",
        "print(classification_report(y_test,md2predicted))"
      ],
      "execution_count": null,
      "outputs": [
        {
          "output_type": "stream",
          "text": [
            "classification_report\n",
            "              precision    recall  f1-score   support\n",
            "\n",
            "           0       0.74      1.00      0.85        31\n",
            "           1       1.00      1.00      1.00         6\n",
            "           3       0.00      0.00      0.00         7\n",
            "           5       0.00      0.00      0.00         4\n",
            "\n",
            "    accuracy                           0.77        48\n",
            "   macro avg       0.43      0.50      0.46        48\n",
            "weighted avg       0.60      0.77      0.67        48\n",
            "\n"
          ],
          "name": "stdout"
        },
        {
          "output_type": "stream",
          "text": [
            "/usr/local/lib/python3.6/dist-packages/sklearn/metrics/_classification.py:1272: UndefinedMetricWarning: Precision and F-score are ill-defined and being set to 0.0 in labels with no predicted samples. Use `zero_division` parameter to control this behavior.\n",
            "  _warn_prf(average, modifier, msg_start, len(result))\n"
          ],
          "name": "stderr"
        },
        {
          "output_type": "display_data",
          "data": {
            "image/png": "[encoded data removed]",
            "text/plain": [
              "<Figure size 432x288 with 2 Axes>"
            ]
          },
          "metadata": {
            "tags": [],
            "needs_background": "light"
          }
        }
      ]
    },
    {
      "cell_type": "markdown",
      "metadata": {
        "id": "rumMxZHrGYmd"
      },
      "source": [
        "**3.Applying Stochastic Gradient Descent model for prediction**"
      ]
    },
    {
      "cell_type": "code",
      "metadata": {
        "colab": {
          "base_uri": "https://localhost:8080/"
        },
        "id": "e58LbwJMGVUR",
        "outputId": "c8e86fad-aa9e-460b-b045-4349f4075d05"
      },
      "source": [
        "model3 = SGDClassifier().fit(X_train, y_train)\n",
        "model3.fit(X_train, y_train)\n",
        "md3predicted = model3.predict(X_test)\n",
        "print(\"SGD Accuracy\",metrics.accuracy_score(y_test, md3predicted))\n",
        "print(\"confusion_matrix\")\n",
        "print(confusion_matrix(y_test,md3predicted))"
      ],
      "execution_count": null,
      "outputs": [
        {
          "output_type": "stream",
          "text": [
            "SGD Accuracy 0.7083333333333334\n",
            "confusion_matrix\n",
            "[[28  1  1  1  0]\n",
            " [ 0  6  0  0  0]\n",
            " [ 5  1  0  0  1]\n",
            " [ 0  0  0  0  0]\n",
            " [ 3  1  0  0  0]]\n"
          ],
          "name": "stdout"
        }
      ]
    },
    {
      "cell_type": "code",
      "metadata": {
        "colab": {
          "base_uri": "https://localhost:8080/",
          "height": 537
        },
        "id": "Gp3Cay1DGxRM",
        "outputId": "4eb11b09-badf-4634-e266-1a7ae14f6e67"
      },
      "source": [
        "conf_mat = confusion_matrix(y_test,md3predicted)\n",
        "ax = sns.heatmap(conf_mat, annot=True, fmt=\"d\")\n",
        "print(\"classification_report\")\n",
        "print(classification_report(y_test,md3predicted))"
      ],
      "execution_count": null,
      "outputs": [
        {
          "output_type": "stream",
          "text": [
            "classification_report\n",
            "              precision    recall  f1-score   support\n",
            "\n",
            "           0       0.78      0.90      0.84        31\n",
            "           1       0.67      1.00      0.80         6\n",
            "           3       0.00      0.00      0.00         7\n",
            "           4       0.00      0.00      0.00         0\n",
            "           5       0.00      0.00      0.00         4\n",
            "\n",
            "    accuracy                           0.71        48\n",
            "   macro avg       0.29      0.38      0.33        48\n",
            "weighted avg       0.59      0.71      0.64        48\n",
            "\n"
          ],
          "name": "stdout"
        },
        {
          "output_type": "stream",
          "text": [
            "/usr/local/lib/python3.6/dist-packages/sklearn/metrics/_classification.py:1272: UndefinedMetricWarning: Recall and F-score are ill-defined and being set to 0.0 in labels with no true samples. Use `zero_division` parameter to control this behavior.\n",
            "  _warn_prf(average, modifier, msg_start, len(result))\n"
          ],
          "name": "stderr"
        },
        {
          "output_type": "display_data",
          "data": {
            "image/png": "[encoded data removed]",
            "text/plain": [
              "<Figure size 432x288 with 2 Axes>"
            ]
          },
          "metadata": {
            "tags": [],
            "needs_background": "light"
          }
        }
      ]
    },
    {
      "cell_type": "markdown",
      "metadata": {
        "id": "oXa1KCiRG9dW"
      },
      "source": [
        "**4.Applying Gradient Boosting Classifier Model for Prediction**"
      ]
    },
    {
      "cell_type": "code",
      "metadata": {
        "colab": {
          "base_uri": "https://localhost:8080/"
        },
        "id": "u11XTuzGG5lX",
        "outputId": "e42bdcd1-6df5-4c90-ad8d-1e7c1350ad04"
      },
      "source": [
        "model4 = GradientBoostingClassifier().fit(X_train, y_train)\n",
        "model4.fit(X_train, y_train)\n",
        "md4predicted = model4.predict(X_test)\n",
        "print(\"Gradient Boosting Classifier Accuracy\",metrics.accuracy_score(y_test, md4predicted))\n",
        "print(\"confusion_matrix\")\n",
        "print(confusion_matrix(y_test,md4predicted))"
      ],
      "execution_count": null,
      "outputs": [
        {
          "output_type": "stream",
          "text": [
            "Gradient Boosting Classifier Accuracy 0.75\n",
            "confusion_matrix\n",
            "[[30  0  0  0  1]\n",
            " [ 1  5  0  0  0]\n",
            " [ 3  2  0  1  1]\n",
            " [ 0  0  0  0  0]\n",
            " [ 3  0  0  0  1]]\n"
          ],
          "name": "stdout"
        }
      ]
    },
    {
      "cell_type": "code",
      "metadata": {
        "colab": {
          "base_uri": "https://localhost:8080/",
          "height": 574
        },
        "id": "0_TFT6uuHUKj",
        "outputId": "97392ac4-c056-427c-90eb-ac8d32ac3773"
      },
      "source": [
        "conf_mat = confusion_matrix(y_test,md4predicted)\n",
        "ax = sns.heatmap(conf_mat, annot=True, fmt=\"d\")\n",
        "print(\"classification_report\")\n",
        "print(classification_report(y_test,md4predicted))"
      ],
      "execution_count": null,
      "outputs": [
        {
          "output_type": "stream",
          "text": [
            "classification_report\n",
            "              precision    recall  f1-score   support\n",
            "\n",
            "           0       0.81      0.97      0.88        31\n",
            "           1       0.71      0.83      0.77         6\n",
            "           3       0.00      0.00      0.00         7\n",
            "           4       0.00      0.00      0.00         0\n",
            "           5       0.33      0.25      0.29         4\n",
            "\n",
            "    accuracy                           0.75        48\n",
            "   macro avg       0.37      0.41      0.39        48\n",
            "weighted avg       0.64      0.75      0.69        48\n",
            "\n"
          ],
          "name": "stdout"
        },
        {
          "output_type": "stream",
          "text": [
            "/usr/local/lib/python3.6/dist-packages/sklearn/metrics/_classification.py:1272: UndefinedMetricWarning: Precision and F-score are ill-defined and being set to 0.0 in labels with no predicted samples. Use `zero_division` parameter to control this behavior.\n",
            "  _warn_prf(average, modifier, msg_start, len(result))\n",
            "/usr/local/lib/python3.6/dist-packages/sklearn/metrics/_classification.py:1272: UndefinedMetricWarning: Recall and F-score are ill-defined and being set to 0.0 in labels with no true samples. Use `zero_division` parameter to control this behavior.\n",
            "  _warn_prf(average, modifier, msg_start, len(result))\n"
          ],
          "name": "stderr"
        },
        {
          "output_type": "display_data",
          "data": {
            "image/png": "[encoded data removed]",
            "text/plain": [
              "<Figure size 432x288 with 2 Axes>"
            ]
          },
          "metadata": {
            "tags": [],
            "needs_background": "light"
          }
        }
      ]
    },
    {
      "cell_type": "markdown",
      "metadata": {
        "id": "dISyun3UHgoZ"
      },
      "source": [
        "**5.Applying XGBoost Model for Prediction**"
      ]
    },
    {
      "cell_type": "code",
      "metadata": {
        "colab": {
          "base_uri": "https://localhost:8080/"
        },
        "id": "NTvXPWEWHa3S",
        "outputId": "3131b639-4801-4c07-ead8-18cb150dc5b6"
      },
      "source": [
        "model5 = XGBClassifier().fit(X_train, y_train)\n",
        "model5.fit(X_train, y_train)\n",
        "md5predicted = model5.predict(X_test)\n",
        "print(\"XGBOOST Accuracy\",metrics.accuracy_score(y_test, md5predicted))\n",
        "print(\"confusion_matrix\")\n",
        "print(confusion_matrix(y_test,md5predicted))"
      ],
      "execution_count": null,
      "outputs": [
        {
          "output_type": "stream",
          "text": [
            "XGBOOST Accuracy 0.75\n",
            "confusion_matrix\n",
            "[[30  1  0  0]\n",
            " [ 1  5  0  0]\n",
            " [ 5  1  0  1]\n",
            " [ 3  0  0  1]]\n"
          ],
          "name": "stdout"
        }
      ]
    },
    {
      "cell_type": "code",
      "metadata": {
        "colab": {
          "base_uri": "https://localhost:8080/",
          "height": 520
        },
        "id": "txyIdGo0H7aD",
        "outputId": "943786e0-512d-44c6-b8e3-aa87dd2a62d4"
      },
      "source": [
        "conf_mat = confusion_matrix(y_test,md3predicted)\n",
        "ax = sns.heatmap(conf_mat, annot=True, fmt=\"d\")\n",
        "print(\"classification_report\")\n",
        "print(classification_report(y_test,md5predicted))"
      ],
      "execution_count": null,
      "outputs": [
        {
          "output_type": "stream",
          "text": [
            "classification_report\n",
            "              precision    recall  f1-score   support\n",
            "\n",
            "           0       0.77      0.97      0.86        31\n",
            "           1       0.71      0.83      0.77         6\n",
            "           3       0.00      0.00      0.00         7\n",
            "           5       0.50      0.25      0.33         4\n",
            "\n",
            "    accuracy                           0.75        48\n",
            "   macro avg       0.50      0.51      0.49        48\n",
            "weighted avg       0.63      0.75      0.68        48\n",
            "\n"
          ],
          "name": "stdout"
        },
        {
          "output_type": "stream",
          "text": [
            "/usr/local/lib/python3.6/dist-packages/sklearn/metrics/_classification.py:1272: UndefinedMetricWarning: Precision and F-score are ill-defined and being set to 0.0 in labels with no predicted samples. Use `zero_division` parameter to control this behavior.\n",
            "  _warn_prf(average, modifier, msg_start, len(result))\n"
          ],
          "name": "stderr"
        },
        {
          "output_type": "display_data",
          "data": {
            "image/png": "[encoded data removed]",
            "text/plain": [
              "<Figure size 432x288 with 2 Axes>"
            ]
          },
          "metadata": {
            "tags": [],
            "needs_background": "light"
          }
        }
      ]
    }
  ]
}